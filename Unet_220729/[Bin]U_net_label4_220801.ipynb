{
  "cells": [
    {
      "cell_type": "code",
      "execution_count": null,
      "metadata": {
        "id": "MIfN1dGg6LbC"
      },
      "outputs": [],
      "source": [
        "import copy\n",
        "import csv\n",
        "import os\n",
        "import time\n",
        "\n",
        "import numpy as np\n",
        "import torch\n",
        "from tqdm import tqdm\n",
        "from sklearn.metrics import f1_score, roc_auc_score"
      ]
    },
    {
      "cell_type": "code",
      "execution_count": null,
      "metadata": {
        "cellView": "form",
        "colab": {
          "base_uri": "https://localhost:8080/"
        },
        "id": "RzRYT7VTLGZL",
        "outputId": "671dee74-6822-4c76-cded-1268c37ee10d"
      },
      "outputs": [
        {
          "name": "stdout",
          "output_type": "stream",
          "text": [
            "Cloning into 'youtube-cnn-002-pytorch-unet'...\n",
            "remote: Enumerating objects: 65, done.\u001b[K\n",
            "remote: Counting objects: 100% (65/65), done.\u001b[K\n",
            "remote: Compressing objects: 100% (48/48), done.\u001b[K\n",
            "remote: Total 65 (delta 29), reused 52 (delta 16), pack-reused 0\u001b[K\n",
            "Unpacking objects: 100% (65/65), done.\n"
          ]
        }
      ],
      "source": [
        "#@title\n",
        "!git clone https://github.com/hanyoseob/youtube-cnn-002-pytorch-unet.git # 참고용"
      ]
    },
    {
      "cell_type": "markdown",
      "metadata": {
        "id": "hhMB30k3Ggmf"
      },
      "source": [
        "# Data Load & split"
      ]
    },
    {
      "cell_type": "code",
      "execution_count": null,
      "metadata": {
        "colab": {
          "base_uri": "https://localhost:8080/"
        },
        "id": "l1nGRj4nwDMA",
        "outputId": "eadf48c9-1d28-4ed5-fe33-6354a27874bd"
      },
      "outputs": [
        {
          "name": "stdout",
          "output_type": "stream",
          "text": [
            "Downloading...\n",
            "From: https://drive.google.com/uc?id=1oT2UYNtv5G-lCmYxwWP0FPAmrbN9UWO6\n",
            "To: /content/512_PNG_Binary-NewName_220730.zip\n",
            "100% 275M/275M [00:01<00:00, 163MB/s]\n"
          ]
        }
      ],
      "source": [
        "!gdown 1oT2UYNtv5G-lCmYxwWP0FPAmrbN9UWO6"
      ]
    },
    {
      "cell_type": "code",
      "execution_count": null,
      "metadata": {
        "colab": {
          "base_uri": "https://localhost:8080/"
        },
        "id": "Bw92SO0coW_t",
        "outputId": "1276ce0b-9e5d-40de-cd4f-3cd708c859f2"
      },
      "outputs": [],
      "source": [
        "!unzip /content/512_PNG_Binary-NewName_220730.zip"
      ]
    },
    {
      "cell_type": "code",
      "execution_count": null,
      "metadata": {
        "colab": {
          "base_uri": "https://localhost:8080/"
        },
        "id": "km_S6820ZBvG",
        "outputId": "cd60fdf6-1255-4a65-a37d-b59dde224baf"
      },
      "outputs": [
        {
          "name": "stdout",
          "output_type": "stream",
          "text": [
            "Looking in indexes: https://pypi.org/simple, https://us-python.pkg.dev/colab-wheels/public/simple/\n",
            "Collecting split-folders\n",
            "  Downloading split_folders-0.5.1-py3-none-any.whl (8.4 kB)\n",
            "Installing collected packages: split-folders\n",
            "Successfully installed split-folders-0.5.1\n"
          ]
        }
      ],
      "source": [
        "!pip install split-folders # 폴더를 train_test 나누기위한 라이브러리 설치"
      ]
    },
    {
      "cell_type": "code",
      "execution_count": null,
      "metadata": {
        "id": "j7FdyewwgZuv"
      },
      "outputs": [],
      "source": [
        "import os\n",
        "import numpy as np\n",
        "from PIL import Image\n",
        "import matplotlib.pyplot as plt\n",
        "import cv2"
      ]
    },
    {
      "cell_type": "code",
      "execution_count": null,
      "metadata": {
        "colab": {
          "base_uri": "https://localhost:8080/"
        },
        "id": "QisyR8mSZBvG",
        "outputId": "12704f6a-1602-4518-a1c4-d9b8c38cdcb3"
      },
      "outputs": [
        {
          "data": {
            "text/plain": [
              "115"
            ]
          },
          "execution_count": 7,
          "metadata": {},
          "output_type": "execute_result"
        }
      ],
      "source": [
        "img = os.listdir('/content/make_data_new_name/4/images')\n",
        "len(img)"
      ]
    },
    {
      "cell_type": "code",
      "execution_count": null,
      "metadata": {
        "id": "vvRB-GwCgdhc"
      },
      "outputs": [],
      "source": [
        "!mkdir ./split_image\n",
        "!mkdir ./dataset"
      ]
    },
    {
      "cell_type": "code",
      "execution_count": null,
      "metadata": {
        "colab": {
          "base_uri": "https://localhost:8080/"
        },
        "id": "MIPeTOEsZBvG",
        "outputId": "22a03659-6748-45ab-8635-8ae4c3b3fefe"
      },
      "outputs": [
        {
          "name": "stderr",
          "output_type": "stream",
          "text": [
            "Copying files: 230 files [00:00, 3516.10 files/s]\n"
          ]
        }
      ],
      "source": [
        "import splitfolders\n",
        "\n",
        "splitfolders.ratio('/content/make_data_new_name/4', output='/content/split_image',seed=115,ratio=(.7,.2,.1)) "
      ]
    },
    {
      "cell_type": "markdown",
      "metadata": {
        "id": "gMFWbnTiN6KY"
      },
      "source": [
        "우리 차량 이미지에 대입하면\n",
        "\n",
        "input = image\n",
        "\n",
        "label = mask\n"
      ]
    },
    {
      "cell_type": "markdown",
      "metadata": {
        "id": "IwEKPRie604S"
      },
      "source": [
        "# Data Pre-Processing"
      ]
    },
    {
      "cell_type": "markdown",
      "metadata": {
        "id": "8xbx8GZkMrEW"
      },
      "source": [
        "TIF 또는 TIFF 파일 확장명 을 가진 파일 은 고품질 래스터 유형 그래픽을 저장하는 데 사용되는 태그있는 이미지 파일입니다.\n",
        "\n",
        " 이 형식은 무손실 압축을 지원하므로 그래픽 아티스트와\n",
        " \n",
        "  사진 작가는 품질을 손상시키지 않고 디스크 공간을 절약하기 위해 사진을 보관할 수 있습니다."
      ]
    },
    {
      "cell_type": "markdown",
      "metadata": {
        "id": "QdTn7zhg6QbO"
      },
      "source": [
        "경로에서 불러서 이미지를 어레이로 바꾸고 넘파이 상태로 저장"
      ]
    },
    {
      "cell_type": "markdown",
      "metadata": {
        "id": "QDNH6wDlEVhf"
      },
      "source": [
        "## 복잡하니 함수화 해볼 것"
      ]
    },
    {
      "cell_type": "code",
      "execution_count": null,
      "metadata": {
        "id": "D_KTAIt9cVfs"
      },
      "outputs": [],
      "source": [
        "data_img = '/content/split_image'\n",
        "\n",
        "train_path = os.path.join(data_img, 'train') # 각 폴더 경로 저장\n",
        "val_path = os.path.join(data_img, 'val')\n",
        "test_path = os.path.join(data_img, 'test')\n",
        "\n",
        "train_list = os.listdir(train_path + '/images')\n",
        "val_list = os.listdir(val_path + '/images')\n",
        "test_list = os.listdir(test_path + '/images')\n",
        "\n",
        "train_list_1 = [x[5:-4] for x in train_list]\n",
        "val_list_1 = [x[5:-4] for x in val_list]\n",
        "test_list_1 = [x[5:-4] for x in test_list]\n",
        "\n",
        "img_path_1 = train_path + '/images/' # 가져오는 데이터를 분리 하기 위해 경로를 각자 설정\n",
        "mask_path_1 = train_path + '/masks/'\n",
        "\n",
        "img_path_2 = val_path + '/images/' # 가져오는 데이터를 분리 하기 위해 경로를 각자 설정\n",
        "mask_path_2 = val_path + '/masks/'\n",
        "\n",
        "img_path_3 = test_path + '/images/' # 가져오는 데이터를 분리 하기 위해 경로를 각자 설정\n",
        "mask_path_3 = test_path + '/masks/'"
      ]
    },
    {
      "cell_type": "code",
      "execution_count": null,
      "metadata": {
        "id": "aq6MRW3aGSyp"
      },
      "outputs": [],
      "source": [
        "dir_save_train = os.path.join('./dataset', 'train') # 각 폴더 경로 저장\n",
        "dir_save_val = os.path.join('./dataset', 'val')\n",
        "dir_save_test = os.path.join('./dataset', 'test')\n",
        "\n",
        "if not os.path.exists(dir_save_train): # 데이터 저장경로에 폴더가 없으면 생성\n",
        "    os.makedirs(dir_save_train)\n",
        "\n",
        "if not os.path.exists(dir_save_val):\n",
        "    os.makedirs(dir_save_val)\n",
        "\n",
        "if not os.path.exists(dir_save_test):\n",
        "    os.makedirs(dir_save_test)"
      ]
    },
    {
      "cell_type": "markdown",
      "metadata": {
        "id": "sgw5a9_7KP6J"
      },
      "source": [
        "training set 저장"
      ]
    },
    {
      "cell_type": "code",
      "execution_count": null,
      "metadata": {
        "id": "ObdRNuUAPg1s"
      },
      "outputs": [],
      "source": [
        "for i in train_list_1:\n",
        "\n",
        "    image = img_path_1 + 'image' + i + '.png'\n",
        "    mask = mask_path_1 + 'mask' + i + '.png'\n",
        "\n",
        "    image = cv2.imread(image, cv2.IMREAD_GRAYSCALE)\n",
        "    mask = cv2.imread(mask, cv2.IMREAD_GRAYSCALE)\n",
        "\n",
        "    np.save(os.path.join(dir_save_train, f'image_{i}.npy'), image)\n",
        "    np.save(os.path.join(dir_save_train, f'mask_{i}.npy'), mask)"
      ]
    },
    {
      "cell_type": "markdown",
      "metadata": {
        "id": "lP6h_MghM5Ye"
      },
      "source": [
        "validation set 저장"
      ]
    },
    {
      "cell_type": "code",
      "execution_count": null,
      "metadata": {
        "id": "iHPSaoDkaMMR"
      },
      "outputs": [],
      "source": [
        "for i in val_list_1:\n",
        "\n",
        "    image = img_path_2 + 'image' + i + '.png'\n",
        "    mask = mask_path_2 + 'mask' + i + '.png'\n",
        "\n",
        "    image = cv2.imread(image, cv2.IMREAD_GRAYSCALE)\n",
        "    mask = cv2.imread(mask, cv2.IMREAD_GRAYSCALE)\n",
        "\n",
        "\n",
        "    np.save(os.path.join(dir_save_val, f'image_{i}.npy'), image)\n",
        "    np.save(os.path.join(dir_save_val, f'mask_{i}.npy'), mask)"
      ]
    },
    {
      "cell_type": "markdown",
      "metadata": {
        "id": "nBv2xDpqNH5q"
      },
      "source": [
        "test set 저장"
      ]
    },
    {
      "cell_type": "code",
      "execution_count": null,
      "metadata": {
        "id": "WsJ6ohVpaMKP"
      },
      "outputs": [],
      "source": [
        "for i in test_list_1:\n",
        "\n",
        "    image = img_path_3 + 'image' + i + '.png'\n",
        "    mask = mask_path_3 + 'mask' + i + '.png'\n",
        "\n",
        "    image = cv2.imread(image, cv2.IMREAD_GRAYSCALE)\n",
        "    mask = cv2.imread(mask, cv2.IMREAD_GRAYSCALE)\n",
        "\n",
        "    np.save(os.path.join(dir_save_test, f'image_{i}.npy'), image)\n",
        "    np.save(os.path.join(dir_save_test, f'mask_{i}.npy'), mask)"
      ]
    },
    {
      "cell_type": "code",
      "execution_count": null,
      "metadata": {
        "colab": {
          "base_uri": "https://localhost:8080/"
        },
        "id": "iZoWv4oe_FVv",
        "outputId": "8a6fdfde-5ef8-428c-8be6-cc3879e81e32"
      },
      "outputs": [
        {
          "data": {
            "text/plain": [
              "(512, 512)"
            ]
          },
          "execution_count": 15,
          "metadata": {},
          "output_type": "execute_result"
        }
      ],
      "source": [
        "mask.shape"
      ]
    },
    {
      "cell_type": "markdown",
      "metadata": {
        "id": "J1DDwZBvNS1K"
      },
      "source": [
        "matplotlib lib을 통한 출력"
      ]
    },
    {
      "cell_type": "markdown",
      "metadata": {
        "id": "wL7wRsONRVIV"
      },
      "source": [
        "# UNet model"
      ]
    },
    {
      "cell_type": "code",
      "execution_count": null,
      "metadata": {
        "id": "WfCSPuy6RZA3"
      },
      "outputs": [],
      "source": [
        "import os\n",
        "import numpy as np\n",
        "\n",
        "import torch\n",
        "import torch.nn as nn\n",
        "from torch.utils.data import DataLoader\n",
        "from torch.utils.tensorboard import SummaryWriter\n",
        "\n",
        "from torchvision import transforms, datasets"
      ]
    },
    {
      "cell_type": "markdown",
      "metadata": {
        "id": "B2MIXy37Rwzc"
      },
      "source": [
        "### 트레이닝 파라미터 설정"
      ]
    },
    {
      "cell_type": "code",
      "execution_count": null,
      "metadata": {
        "id": "8bpou2wlRr8x"
      },
      "outputs": [],
      "source": [
        "lr = 1e-3 # learning rate\n",
        "batch_size = 1\n",
        "num_epoch = 30\n",
        "\n",
        "data_dir = './dataset' # data path\n",
        "ckpt_dir = './checkpoint' # 구간마다 정보를 저장할 체크포인트\n",
        "log_dir = './log' # 기록들을 정리해놓을 log\n",
        "\n",
        "device = torch.device('cuda' if torch.cuda.is_available() else 'cpu')"
      ]
    },
    {
      "cell_type": "markdown",
      "metadata": {
        "id": "jlPxJugoTTdm"
      },
      "source": [
        "### 네트워크 구축"
      ]
    },
    {
      "cell_type": "markdown",
      "metadata": {
        "id": "MYPPk2NOWfBi"
      },
      "source": [
        "![화면 캡처 2022-07-30 180605.jpg](data:image/jpeg;base64,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)"
      ]
    },
    {
      "cell_type": "markdown",
      "metadata": {
        "id": "O8CoiVRxEMGc"
      },
      "source": [
        "## Dropout 더 시도해 봐야함"
      ]
    },
    {
      "cell_type": "code",
      "execution_count": null,
      "metadata": {
        "id": "-VXeRLmaS0uA"
      },
      "outputs": [],
      "source": [
        "class UNet(nn.Module):\n",
        "    def __init__(self):\n",
        "        super(UNet, self).__init__()\n",
        "\n",
        "        # Enoder와 Decoder에서 반복적으로 사용되는 conv2 layer, batchnormalization, ReLU를 함수로 정의\n",
        "        def CBR2d(in_channels, out_channels, kernel_size=3, stride=1, padding=1, bias=True):\n",
        "            layers = []\n",
        "            layers += [nn.Conv2d(in_channels=in_channels, out_channels=out_channels,\n",
        "                                 kernel_size=kernel_size, stride=stride, padding=padding,\n",
        "                                 bias=bias)]\n",
        "            # 각 레이어 (미니 배치) 마다 normalization을 하는 레이어를 둬서 변형된 분포가 나오지 않게 함\n",
        "            layers += [nn.BatchNorm2d(num_features=out_channels)] \n",
        "            layers += [nn.ReLU()]\n",
        "\n",
        "            cbr = nn.Sequential(*layers)\n",
        "\n",
        "            return cbr\n",
        "\n",
        "        # Contracting path\n",
        "        # enc는 encoder, 1은 첫번째 스테이지, _1은 첫번째 스테이지의 첫번째 cbr을 의미 (파란색 화살표)\n",
        "\n",
        "        # kernel_size, stride, padding, bias는 layer를 쌓으면서도 고정값으로 가져가기 때문에\n",
        "        # CBR2d 함수에서 정의된 값들이 default, 즉 매번 작성하지 않아도 되므로 삭제\n",
        "        self.enc1_1 = CBR2d(in_channels=1, out_channels=64) \n",
        "        self.enc1_2 = CBR2d(in_channels=64, out_channels=64) \n",
        "\n",
        "        # 한 스테이지가 끝날 때마다 max pooling 적용 ( 빨간색 화살표 )\n",
        "        # MaxPool2d 라는 함수를 torch 내에서 가져오면 되기 때문에 전부 작성할 필요 없음 \n",
        "        self.pool1 = nn.MaxPool2d(kernel_size=2)\n",
        "\n",
        "        self.enc2_1 = CBR2d(in_channels=64, out_channels=128) \n",
        "        self.enc2_2 = CBR2d(in_channels=128, out_channels=128) \n",
        "\n",
        "        self.pool2 = nn.MaxPool2d(kernel_size=2)\n",
        "\n",
        "        self.enc3_1 = CBR2d(in_channels=128, out_channels=256) \n",
        "        self.enc3_2 = CBR2d(in_channels=256, out_channels=256) \n",
        "\n",
        "        self.pool3 = nn.MaxPool2d(kernel_size=2)\n",
        "\n",
        "        self.enc4_1 = CBR2d(in_channels=256, out_channels=512) \n",
        "        self.enc4_2 = CBR2d(in_channels=512, out_channels=512) \n",
        "\n",
        "        self.pool4 = nn.MaxPool2d(kernel_size=2)\n",
        "\n",
        "        # encoder 마지막 단으로 down convolution 파트 종료\n",
        "        self.enc5_1 = CBR2d(in_channels=512, out_channels=1024)\n",
        "\n",
        "        # Define proportion or neurons to dropout\n",
        "        self.dropout = nn.Dropout(0.25)\n",
        "\n",
        "\n",
        "        # Expansive path\n",
        "        # encoder와 decoder가 페어가 되어 보일 수 있게 이름의 숫자도 대칭으로 작성\n",
        "        self.dec5_1 = CBR2d(in_channels=1024, out_channels=512)\n",
        "\n",
        "        # 위에서의 maxpooling과는 다르게 구현되어 있는 함수가 없기 때문에 직접적으로 \n",
        "        # ConvTranspose2d를 사용하여 구현해야함  ( 초록색 화살표 ) \n",
        "        self.unpool4 = nn.ConvTranspose2d(in_channels=512, out_channels=512,\n",
        "                                          kernel_size=2, stride=2, padding=0, bias=True)\n",
        "        \n",
        "        # decoder에서는 u_net 특성상 위 사진의 하얀색 부분인 skip connection이 이루어지기 때문에\n",
        "        # in_channels에 곱하기 2가 되어 들어가야함  /   # 하얀색 화살표\n",
        "        self.dec4_2 = CBR2d(in_channels=2 * 512, out_channels=512) \n",
        "        self.dec4_1 = CBR2d(in_channels=512, out_channels=256) \n",
        "                            \n",
        "        self.unpool3 = nn.ConvTranspose2d(in_channels=256, out_channels=256,\n",
        "                                          kernel_size=2, stride=2, padding=0, bias=True)\n",
        "\n",
        "        self.dec3_2 = CBR2d(in_channels=2 * 256, out_channels=256) \n",
        "        self.dec3_1 = CBR2d(in_channels=256, out_channels=128)\n",
        "\n",
        "        self.unpool2 = nn.ConvTranspose2d(in_channels=128, out_channels=128,\n",
        "                                          kernel_size=2, stride=2, padding=0, bias=True)\n",
        "\n",
        "        self.dec2_2 = CBR2d(in_channels=2 * 128, out_channels=128) \n",
        "        self.dec2_1 = CBR2d(in_channels=128, out_channels=64)\n",
        "\n",
        "        self.unpool1 = nn.ConvTranspose2d(in_channels=64, out_channels=64,\n",
        "                                          kernel_size=2, stride=2, padding=0, bias=True)\n",
        "        \n",
        "        self.dec1_2 = CBR2d(in_channels=2 * 64, out_channels=64) \n",
        "        self.dec1_1 = CBR2d(in_channels=64, out_channels=1)\n",
        "\n",
        "        # self.fc = nn.Conv2d(in_channels=64, out_channels=1, kernel_size=1, stride=1, padding=0, bias=True)\n",
        "\n",
        "    # 실행하기 위한 코드적 구현 파트\n",
        "\n",
        "    def forward(self,x):\n",
        "        # contracting path\n",
        "        enc1_1 = self.enc1_1(x) # 파란 화살표\n",
        "        enc1_2 = self.enc1_2(enc1_1)\n",
        "        pool1 = self.pool1(enc1_2) # 빨간 화살표\n",
        "\n",
        "        enc2_1 = self.enc2_1(pool1)\n",
        "        enc2_2 = self.enc2_2(enc2_1)\n",
        "        pool2 = self.pool2(enc2_2)\n",
        "\n",
        "        enc3_1 = self.enc3_1(pool2)\n",
        "        enc3_2 = self.enc3_2(enc3_1)\n",
        "        pool3 = self.pool3(enc3_2)\n",
        "\n",
        "        enc4_1 = self.enc4_1(pool3)\n",
        "        enc4_2 = self.enc4_2(enc4_1)\n",
        "        pool4 = self.pool4(enc4_2)\n",
        "\n",
        "        enc5_1 = self.enc5_1(pool4)\n",
        "\n",
        "        # Expensive path\n",
        "        dec5_1 = self.dec5_1(enc5_1)\n",
        "\n",
        "        unpool4 = self.unpool4(dec5_1) # 초록색 화살표\n",
        "        # torch lib에서 cat (concatenate) 함수를 불러와 위에서 지정한 skip connection하여 온 페어 지정한 encoder를 합체\n",
        "        cat4 = torch.cat((unpool4, enc4_2), dim=1) # dim[0=batch, 1=channel, 2=height, 3=width]\n",
        "        dec4_2 = self.dec4_2(cat4)\n",
        "        dec4_1 = self.dec4_1(dec4_2)\n",
        "\n",
        "        unpool3 = self.unpool3(dec4_1) \n",
        "        cat3 = torch.cat((unpool3, enc3_2), dim=1) \n",
        "        dec3_2 = self.dec3_2(cat3)\n",
        "        dec3_1 = self.dec3_1(dec3_2)\n",
        "\n",
        "        unpool2 = self.unpool2(dec3_1) \n",
        "        cat2 = torch.cat((unpool2, enc2_2), dim=1) \n",
        "        dec2_2 = self.dec2_2(cat2)\n",
        "        dec2_1 = self.dec2_1(dec2_2)\n",
        "\n",
        "        unpool1 = self.unpool1(dec2_1) \n",
        "        cat1 = torch.cat((unpool1, enc1_2), dim=1) \n",
        "        dec1_2 = self.dec1_2(cat1)\n",
        "        dec1_1 = self.dec1_1(dec1_2)\n",
        "\n",
        "        x = dec1_1\n",
        "\n",
        "        return x\n"
      ]
    },
    {
      "cell_type": "markdown",
      "metadata": {
        "id": "UionRhPHBdu9"
      },
      "source": [
        "Dropout 및 floor 추가"
      ]
    },
    {
      "cell_type": "code",
      "execution_count": null,
      "metadata": {
        "id": "ylVx1ELt956u"
      },
      "outputs": [],
      "source": [
        "import gc\n",
        "gc.collect()\n",
        "torch.cuda.empty_cache()"
      ]
    },
    {
      "cell_type": "code",
      "execution_count": null,
      "metadata": {
        "colab": {
          "base_uri": "https://localhost:8080/"
        },
        "id": "CLSnZkx1-cAA",
        "outputId": "025413ad-e511-4e11-86c7-a093a624890b"
      },
      "outputs": [
        {
          "name": "stdout",
          "output_type": "stream",
          "text": [
            "device available:  cuda:0\n"
          ]
        }
      ],
      "source": [
        "import torch\n",
        "import torch.nn as nn\n",
        "from torchsummary import summary\n",
        "\n",
        "device = \"cuda:0\" if torch.cuda.is_available() else \"cpu\"\n",
        "# device = \"cpu\"\n",
        "batch_size = 2\n",
        "workers = 4\n",
        "print(\"device available: \", device)     "
      ]
    },
    {
      "cell_type": "code",
      "execution_count": null,
      "metadata": {
        "colab": {
          "base_uri": "https://localhost:8080/"
        },
        "id": "qRPzhgSf9zHE",
        "outputId": "3a233585-73aa-4838-b98c-003da6422576"
      },
      "outputs": [
        {
          "name": "stdout",
          "output_type": "stream",
          "text": [
            "----------------------------------------------------------------\n",
            "        Layer (type)               Output Shape         Param #\n",
            "================================================================\n",
            "            Conv2d-1         [-1, 64, 512, 512]             640\n",
            "       BatchNorm2d-2         [-1, 64, 512, 512]             128\n",
            "              ReLU-3         [-1, 64, 512, 512]               0\n",
            "            Conv2d-4         [-1, 64, 512, 512]          36,928\n",
            "       BatchNorm2d-5         [-1, 64, 512, 512]             128\n",
            "              ReLU-6         [-1, 64, 512, 512]               0\n",
            "         MaxPool2d-7         [-1, 64, 256, 256]               0\n",
            "            Conv2d-8        [-1, 128, 256, 256]          73,856\n",
            "       BatchNorm2d-9        [-1, 128, 256, 256]             256\n",
            "             ReLU-10        [-1, 128, 256, 256]               0\n",
            "           Conv2d-11        [-1, 128, 256, 256]         147,584\n",
            "      BatchNorm2d-12        [-1, 128, 256, 256]             256\n",
            "             ReLU-13        [-1, 128, 256, 256]               0\n",
            "        MaxPool2d-14        [-1, 128, 128, 128]               0\n",
            "           Conv2d-15        [-1, 256, 128, 128]         295,168\n",
            "      BatchNorm2d-16        [-1, 256, 128, 128]             512\n",
            "             ReLU-17        [-1, 256, 128, 128]               0\n",
            "           Conv2d-18        [-1, 256, 128, 128]         590,080\n",
            "      BatchNorm2d-19        [-1, 256, 128, 128]             512\n",
            "             ReLU-20        [-1, 256, 128, 128]               0\n",
            "        MaxPool2d-21          [-1, 256, 64, 64]               0\n",
            "           Conv2d-22          [-1, 512, 64, 64]       1,180,160\n",
            "      BatchNorm2d-23          [-1, 512, 64, 64]           1,024\n",
            "             ReLU-24          [-1, 512, 64, 64]               0\n",
            "           Conv2d-25          [-1, 512, 64, 64]       2,359,808\n",
            "      BatchNorm2d-26          [-1, 512, 64, 64]           1,024\n",
            "             ReLU-27          [-1, 512, 64, 64]               0\n",
            "        MaxPool2d-28          [-1, 512, 32, 32]               0\n",
            "           Conv2d-29         [-1, 1024, 32, 32]       4,719,616\n",
            "      BatchNorm2d-30         [-1, 1024, 32, 32]           2,048\n",
            "             ReLU-31         [-1, 1024, 32, 32]               0\n",
            "           Conv2d-32          [-1, 512, 32, 32]       4,719,104\n",
            "      BatchNorm2d-33          [-1, 512, 32, 32]           1,024\n",
            "             ReLU-34          [-1, 512, 32, 32]               0\n",
            "  ConvTranspose2d-35          [-1, 512, 64, 64]       1,049,088\n",
            "           Conv2d-36          [-1, 512, 64, 64]       4,719,104\n",
            "      BatchNorm2d-37          [-1, 512, 64, 64]           1,024\n",
            "             ReLU-38          [-1, 512, 64, 64]               0\n",
            "           Conv2d-39          [-1, 256, 64, 64]       1,179,904\n",
            "      BatchNorm2d-40          [-1, 256, 64, 64]             512\n",
            "             ReLU-41          [-1, 256, 64, 64]               0\n",
            "  ConvTranspose2d-42        [-1, 256, 128, 128]         262,400\n",
            "           Conv2d-43        [-1, 256, 128, 128]       1,179,904\n",
            "      BatchNorm2d-44        [-1, 256, 128, 128]             512\n",
            "             ReLU-45        [-1, 256, 128, 128]               0\n",
            "           Conv2d-46        [-1, 128, 128, 128]         295,040\n",
            "      BatchNorm2d-47        [-1, 128, 128, 128]             256\n",
            "             ReLU-48        [-1, 128, 128, 128]               0\n",
            "  ConvTranspose2d-49        [-1, 128, 256, 256]          65,664\n",
            "           Conv2d-50        [-1, 128, 256, 256]         295,040\n",
            "      BatchNorm2d-51        [-1, 128, 256, 256]             256\n",
            "             ReLU-52        [-1, 128, 256, 256]               0\n",
            "           Conv2d-53         [-1, 64, 256, 256]          73,792\n",
            "      BatchNorm2d-54         [-1, 64, 256, 256]             128\n",
            "             ReLU-55         [-1, 64, 256, 256]               0\n",
            "  ConvTranspose2d-56         [-1, 64, 512, 512]          16,448\n",
            "           Conv2d-57         [-1, 64, 512, 512]          73,792\n",
            "      BatchNorm2d-58         [-1, 64, 512, 512]             128\n",
            "             ReLU-59         [-1, 64, 512, 512]               0\n",
            "           Conv2d-60          [-1, 1, 512, 512]             577\n",
            "      BatchNorm2d-61          [-1, 1, 512, 512]               2\n",
            "             ReLU-62          [-1, 1, 512, 512]               0\n",
            "================================================================\n",
            "Total params: 23,343,427\n",
            "Trainable params: 23,343,427\n",
            "Non-trainable params: 0\n",
            "----------------------------------------------------------------\n",
            "Input size (MB): 1.00\n",
            "Forward/backward pass size (MB): 2670.00\n",
            "Params size (MB): 89.05\n",
            "Estimated Total Size (MB): 2760.05\n",
            "----------------------------------------------------------------\n",
            "None\n"
          ]
        }
      ],
      "source": [
        "unet = UNet()\n",
        "unet.to(device)\n",
        "print(summary(unet, (1, 512, 512)))"
      ]
    },
    {
      "cell_type": "markdown",
      "metadata": {
        "id": "pXlFL4Efc7GC"
      },
      "source": [
        "# Data loader"
      ]
    },
    {
      "cell_type": "markdown",
      "metadata": {
        "id": "zy-QOlKBdNtX"
      },
      "source": [
        "### data loader 구현"
      ]
    },
    {
      "cell_type": "code",
      "execution_count": null,
      "metadata": {
        "id": "WiQce3zlc47S"
      },
      "outputs": [],
      "source": [
        "class Dataset(torch.utils.data.Dataset):\n",
        "    def __init__(self, data_dir, transform=None):\n",
        "        self.data_dir = data_dir\n",
        "        self.transform = transform\n",
        "\n",
        "        lst_data = os.listdir(self.data_dir)\n",
        "\n",
        "        # 문자열 검사를 통해 'mask'이 있으면 True로 정리\n",
        "        lst_mask = [f for f in lst_data if f.startswith('mask')] # 리스트들 정리\n",
        "        lst_image = [f for f in lst_data if f.startswith('image')]\n",
        "\n",
        "        lst_mask.sort() # 데이터 인덱스에 맞게 정렬\n",
        "        lst_image.sort()\n",
        "\n",
        "        self.lst_mask = lst_mask\n",
        "        self.lst_image = lst_image\n",
        "\n",
        "    def __len__(self):\n",
        "        return len(self.lst_mask)      # 함수의 length를 확인하는 함수\n",
        "\n",
        "    def __getitem__(self, index):       # 인덱스에 해당하는 파일을 로드\n",
        "        mask = np.load(os.path.join(self.data_dir, self.lst_mask[index]))\n",
        "        image = np.load(os.path.join(self.data_dir, self.lst_image[index]))\n",
        "\n",
        "        mask = mask/255.0     # 0에서 1사이로 normalize 해주기 위해 255로 나눔\n",
        "        image = image/255.0\n",
        "        mask = mask.astype(np.float32) # 데이터셋이 다를 경우가 있을 수 있으니 형태를 플롯형으로 변환\n",
        "        image = image.astype(np.float32)\n",
        "\n",
        "        if mask.ndim == 2:     # 라벨의 차원이 2일 경우 라벨의 마지막에 차원을 임의로 추가\n",
        "            mask = mask[:,:,np.newaxis]\n",
        "        if image.ndim == 2:  \n",
        "            image = image[:,:,np.newaxis] \n",
        "\n",
        "        data = {'image':image, 'mask':mask} # 생성된 라벨과 인풋을 딕셔너리 형태로 내보냄\n",
        "\n",
        "        if self.transform:\t\t\t\t\n",
        "            data = self.transform(data)\n",
        "\n",
        "        return data\n"
      ]
    },
    {
      "cell_type": "code",
      "execution_count": null,
      "metadata": {
        "colab": {
          "base_uri": "https://localhost:8080/",
          "height": 204
        },
        "id": "NyKhzy9Umvl2",
        "outputId": "b42b5400-fa91-4c55-a800-5384736ebf0f"
      },
      "outputs": [
        {
          "data": {
            "image/png": "[encoded data removed]",
            "text/plain": [
              "<Figure size 432x288 with 2 Axes>"
            ]
          },
          "metadata": {
            "needs_background": "light"
          },
          "output_type": "display_data"
        }
      ],
      "source": [
        "dataset_train = Dataset(data_dir=os.path.join(data_dir, 'train'))\n",
        "\n",
        "data = dataset_train.__getitem__(0)\n",
        "\n",
        "image = data['image'] # 딕셔너리 형태에서 밸류값을 가져오고\n",
        "mask = data['mask']\n",
        "\n",
        "plt.subplot(121)\n",
        "plt.imshow(image.squeeze()) # 위에서 임의로 생성한 차원의 이미지를 넣으면 에러가 생기므로\n",
        "                            # squeeze 함수를 사용해 1인 차원을 가진 axis를 제거\n",
        "\n",
        "plt.subplot(122)\n",
        "plt.imshow(mask.squeeze())\n",
        "\n",
        "plt.show()"
      ]
    },
    {
      "cell_type": "markdown",
      "metadata": {
        "id": "NzbL5gqzp79w"
      },
      "source": [
        "### Transform"
      ]
    },
    {
      "cell_type": "code",
      "execution_count": null,
      "metadata": {
        "id": "QuKrC4-PdGQb"
      },
      "outputs": [],
      "source": [
        "class ToTensor(object):\n",
        "    def __call__(self, data):\n",
        "        mask, image = data['mask'], data['image']\n",
        "\t\t\n",
        "        # numpy와 tensor의 배열 차원 순서가 다르다. \n",
        "        # numpy : (행, 열, 채널)\n",
        "        # tensor : (채널, 행, 열)\n",
        "        # 따라서 위 순서에 맞춰 transpose\n",
        "        \n",
        "        mask = mask.transpose((2, 0, 1)).astype(np.float32) \n",
        "        image = image.transpose((2, 0, 1)).astype(np.float32)\n",
        "\t\t\n",
        "        # 이후 np를 tensor로 바꾸는 코드는 다음과 같이 간단하다.\n",
        "        data = {'mask': torch.from_numpy(mask), 'image': torch.from_numpy(image)}\n",
        "\n",
        "        return data\n",
        "        \n",
        "class Normalization(object):\n",
        "    def __init__(self, mean=0.5, std=0.5):\n",
        "        self.mean = mean\n",
        "        self.std = std\n",
        "\n",
        "    def __call__(self, data):\n",
        "        mask, image = data['mask'], data['image']\n",
        "\n",
        "        image = (image - self.mean) / self.std\n",
        "\n",
        "        data = {'mask': mask, 'image': image}\n",
        "\n",
        "        return data\n",
        "\n",
        "class RandomFlip(object):\n",
        "    def __call__(self, data):\n",
        "        mask, image = data['mask'], data['image']\n",
        "\n",
        "        if np.random.rand() > 0.5:\n",
        "            mask = np.fliplr(mask)\n",
        "            image = np.fliplr(image)\n",
        "\n",
        "        if np.random.rand() > 0.5:\n",
        "            mask = np.flipud(mask)\n",
        "            image = np.flipud(image)\n",
        "\n",
        "        data = {'mask': mask, 'image': image}\n",
        "\n",
        "        return data"
      ]
    },
    {
      "cell_type": "markdown",
      "metadata": {
        "id": "1uE7B5BCqOi9"
      },
      "source": [
        "# Transform"
      ]
    },
    {
      "cell_type": "code",
      "execution_count": null,
      "metadata": {
        "id": "bEirKJKvqQF1"
      },
      "outputs": [],
      "source": [
        "def dice_coef(y_pred, y_true):\n",
        "    smooth = 1e-3\n",
        "    numerator =   (2 * ( y_pred * y_true ).sum() + smooth)\n",
        "    denominator = ( y_pred.sum() + y_true.sum()  + smooth)\n",
        "    return numerator / denominator\n",
        "\n",
        "def dice_loss(y_pred, y_true):\n",
        "    return 1. - dice_coef(y_pred, y_true)\n",
        "\n",
        "class dice(nn.Module):\n",
        "    def __init__(self):\n",
        "        super(dice, self).__init__()\n",
        "        \n",
        "    def forward(self, y_pred, y_true):\n",
        "        return dice_loss(y_pred, y_true)\n",
        "\n",
        "def dsc(y_pred, y_true):\n",
        "    smooth = 1e-3\n",
        "    y_pred, y_true = torch.round(y_pred), torch.round(y_true)\n",
        "    numerator = (2 * ( y_pred * y_true ).sum() + smooth)\n",
        "    denominator = ( y_pred.sum() + y_true.sum()  + smooth)\n",
        "    return numerator / denominator\n",
        "\n",
        "class bce_dice_loss(nn.Module):\n",
        "    def __init__(self):\n",
        "        super(bce_dice_loss, self).__init__()\n",
        "        self.loss = nn.BCELoss()\n",
        "        # self.loss = nn.BCEWithLogitsLoss(weight=None, size_average=None, reduce=None, reduction='mean', pos_weight=None)\n",
        "\n",
        "        \n",
        "    def forward(self, mask_pred, mask_true):\n",
        "        return dice_loss(mask_pred, mask_true)\n",
        "\n",
        "# numpy를 이용한 iou 계산 함수\n",
        "def prod_iou(pred, true):\n",
        "    pred = pred.int()\n",
        "    true = true.int()\n",
        "\n",
        "    intersection = (pred & true).float().sum((1, 2))\n",
        "    union = (pred | true).float().sum((1, 2))\n",
        "\n",
        "    iou = (intersection + EPS) / (union + EPS)\n",
        "\n",
        "    return iou.mean()\n",
        "\n",
        "\n",
        "# 위에서 지정한 함수 compose\n",
        "transform = transforms.Compose([Normalization(mean=0.5, std=0.5), RandomFlip(), ToTensor()])\n",
        "\n",
        "# 경로에서 가져온 데이터 transform 적용\n",
        "dataset_train = Dataset(data_dir=os.path.join(data_dir, 'train'), transform=transform)\n",
        "\n",
        "# 데이터로더를 거쳐서 위에 적용된 부분을 가져옴\n",
        "loader_train = DataLoader(dataset_train, batch_size=batch_size, shuffle=True, num_workers=8)\n",
        "\n",
        "# val\n",
        "dataset_val = Dataset(data_dir=os.path.join(data_dir, 'val'), transform=transform)\n",
        "loader_val = DataLoader(dataset_val, batch_size=batch_size, shuffle=False, num_workers=8)\n",
        "\n",
        "metrics = {'f1_score': f1_score, 'auroc': roc_auc_score, 'iou': iou_np}\n",
        "\n",
        "# 네트워크 생성\n",
        "net = UNet().to(device) # 네트워크 \n",
        "\n",
        "# criterion = nn.BCEWithLogitsLoss().to(device) # BCEloss 와 logitloss가 합쳐진 형태 \n",
        "# (logitloss는 sigmoid를 포함하고 있어 따로 추가해주지 않아도됨)\n",
        "# 현재 우리의 방향은 iou점수를 내기 위해 모델에서 학습을 끝내고 온 output을 fc에 넣지 않고\n",
        "# trainer에 넣고 돌릴 input으로 반환하기 위해 sigmoid를 거치면 안되었음\n",
        "# 그래서 단독으로 있는 BCE_dice_loss만 사용해서 out을 뽑고 점수를 기록하려함\n",
        "\n",
        "criterion = bce_dice_loss().to(device) # 손실 \n",
        "optimizer = torch.optim.Adam(net.parameters(), lr=lr) # optimizer\n",
        "\n",
        "# Variables 설정\n",
        "# 로스를 계산하기 위해 필요함\n",
        "num_data_train = len(dataset_train) # 데이터의 개수를 설정\n",
        "num_data_val = len(dataset_val)\n",
        "\n",
        "num_batch_train = np.ceil(num_data_train / batch_size) # 배치사이즈에 의해서 나누어지는 트레이닝 셋의 수 계산\n",
        "num_batch_val = np.ceil(num_data_val / batch_size)\n",
        "\n",
        "# Functions 설정\n",
        "fn_tonumpy = lambda x: x.to('cpu').detach().numpy().transpose(0, 2, 3, 1) # from tensor to numpy\n",
        "fn_denorm = lambda x, mean, std: (x * std) + mean # normaliztion 되어있는 데이터를 반대로 denormalization 해줌\n",
        "fn_class = lambda x: 1.0 * (x > 0.5) # 아웃풋의 이미지를 바이너리 클래스로 분류해주는 function 정의\n",
        "\n",
        "# Tensorboard SummaryWriter 설정\n",
        "writer_train = SummaryWriter(log_dir=os.path.join(log_dir, 'train')) # 기록들을 tensorboard를 통한 그래프를 작성\n",
        "writer_val = SummaryWriter(log_dir=os.path.join(log_dir, 'val'))      # 해주기 위한 function 설정\n",
        "\n",
        "# 네트워크 저장하기\n",
        "# train을 마친 네트워크 저장 \n",
        "# net : 네트워크 파라미터, optimizer  두개를 dict 형태로 저장\n",
        "def save(ckpt_dir,net,optimizer,epoch):\n",
        "    if not os.path.exists(ckpt_dir):\n",
        "        os.makedirs(ckpt_dir)\n",
        "\n",
        "    torch.save({'net':net.state_dict(),'optimizer':optimizer.state_dict()},'%s/model_epoch%d.pt'%(ckpt_dir,epoch))\n",
        "\n",
        "# 네트워크 불러오기\n",
        "def load(ckpt_dir,net,optimizer):\n",
        "    if not os.path.exists(ckpt_dir): # 저장된 네트워크가 없다면 인풋을 그대로 반환\n",
        "        epoch = 0\n",
        "        return net, optimizer, epoch\n",
        "    \n",
        "    ckpt_lst = os.listdir(ckpt_dir) # ckpt_dir 아래 있는 모든 파일 리스트를 받아온다\n",
        "    ckpt_lst.sort(key = lambda f : int(''.join(filter(str.isdigit, f))))\n",
        "\n",
        "    dict_model = torch.load('%s/%s' % (ckpt_dir,ckpt_lst[-1]))\n",
        "\n",
        "    net.load_state_dict(dict_model['net'])\n",
        "    optimizer.load_state_dict(dict_model['optimizer'])\n",
        "    epoch = int(ckpt_lst[-1].split('epoch')[1].split('.pt')[0])\n",
        "\n",
        "    return net,optimizer,epoch\n",
        "\n"
      ]
    },
    {
      "cell_type": "markdown",
      "metadata": {
        "id": "OYtztAN3uWXi"
      },
      "source": [
        "# Train"
      ]
    },
    {
      "cell_type": "code",
      "execution_count": null,
      "metadata": {
        "id": "GxpkGdOctpfc"
      },
      "outputs": [],
      "source": [
        "batch_size = 1\n",
        "num_epoch = 5"
      ]
    },
    {
      "cell_type": "markdown",
      "metadata": {
        "id": "D-rvUNhK-KGs"
      },
      "source": [
        "## UNet 직접 구현 코드"
      ]
    },
    {
      "cell_type": "code",
      "execution_count": null,
      "metadata": {
        "cellView": "form",
        "id": "nconnbNtsbRg"
      },
      "outputs": [],
      "source": [
        "#@title\n",
        "st_epoch = 0 # 트레이닝이 시작되는 에폭의 포지션을 0으로 설정\n",
        "\n",
        "for epoch in range(st_epoch + 1, num_epoch + 1):\n",
        "    net.train() # 네트워크에게 트레인이라는 모드를 알려주는 function 설정\n",
        "    loss_arr = []\n",
        "    # forward pass              /       네트워크의 인풋을 받아 아웃풋을 출력\n",
        "    for batch, data in enumerate(loader_train, 1):\n",
        "        mask = data['mask'].to(device)\n",
        "        image = data['image'].to(device)\n",
        "\n",
        "        output = net(image)\n",
        "        # backward pass         /       back propagation\n",
        "        optimizer.zero_grad()\n",
        "\n",
        "        loss = criterion(output, mask)\n",
        "        loss.backward()\n",
        "\n",
        "        optimizer.step()\n",
        "\n",
        "        # 손실함수 계산\n",
        "        loss_arr += [loss.item()]\n",
        "\n",
        "        print(\"TRAIN: EPOCH %04d / %04d | BATCH %04d / %04d | LOSS %.4f\" %\n",
        "            (epoch, num_epoch, batch, num_batch_train, np.mean(loss_arr)))\n",
        "        \n",
        "\n",
        "        # Tensorboard 저장\n",
        "        mask = fn_tonumpy(mask)\n",
        "        image = fn_tonumpy(fn_denorm(image, mean=0.5, std=0.5))\n",
        "        output = fn_tonumpy(fn_class(output))\n",
        "\n",
        "        writer_train.add_image('mask', mask, num_batch_train * (epoch - 1) + batch, dataformats='NHWC')\n",
        "        writer_train.add_image('image', image, num_batch_train * (epoch - 1) + batch, dataformats='NHWC')\n",
        "        writer_train.add_image('output', output, num_batch_train * (epoch - 1) + batch, dataformats='NHWC')\n",
        "\n",
        "    writer_train.add_scalar('loss', np.mean(loss_arr), epoch)\n",
        "\n",
        "    # validation\n",
        "    with torch.no_grad(): # validation 이기 때문에 backpropa 진행 x, 학습된 네트워크가 정답과 얼마나 가까운지 loss만 계산\n",
        "        net.eval() # 네트워크를 evaluation 용으로 선언\n",
        "        loss_arr = []\n",
        "\n",
        "        for batch, data in enumerate(loader_val,1):\n",
        "            # forward\n",
        "            mask = data['mask'].to(device)\n",
        "            image = data['image'].to(device)\n",
        "            output = net(image)\n",
        "\n",
        "            # loss \n",
        "            loss = criterion(output,mask)\n",
        "            loss_arr += [loss.item()]\n",
        "            print('valid : epoch %04d / %04d | Batch %04d \\ %04d | Loss %04d'%(epoch,num_epoch,batch,num_batch_val,np.mean(loss_arr)))\n",
        "\n",
        "            # Tensorboard 저장하기\n",
        "            mask = fn_tonumpy(mask)\n",
        "            image = fn_tonumpy(fn_denorm(image, mean=0.5, std=0.5))\n",
        "            output = fn_tonumpy(fn_class(output))\n",
        "\n",
        "            writer_val.add_image('mask', mask, num_batch_val * (epoch - 1) + batch, dataformats='NHWC')\n",
        "            writer_val.add_image('image', image, num_batch_val * (epoch - 1) + batch, dataformats='NHWC')\n",
        "            writer_val.add_image('output', output, num_batch_val * (epoch - 1) + batch, dataformats='NHWC')\n",
        "\n",
        "        writer_val.add_scalar('loss', np.mean(loss_arr), epoch)\n",
        "\n",
        "        # epoch이 끝날때 마다 네트워크 저장\n",
        "        if epoch % 5 ==0:\n",
        "            save(ckpt_dir=ckpt_dir, net = net, optimizer = optimizer, epoch = epoch)\n",
        "\n",
        "writer_train.close()\n",
        "writer_val.close()\n",
        "\n",
        "\n"
      ]
    },
    {
      "cell_type": "markdown",
      "metadata": {
        "id": "3lgNVorC_NoR"
      },
      "source": [
        "## UNet에 맞게 custom한 trainer"
      ]
    },
    {
      "cell_type": "code",
      "execution_count": null,
      "metadata": {
        "colab": {
          "base_uri": "https://localhost:8080/"
        },
        "id": "0KGr1Dz_J1Li",
        "outputId": "a286d54f-8bae-4788-c68b-51f8d6183463"
      },
      "outputs": [
        {
          "name": "stdout",
          "output_type": "stream",
          "text": [
            "Epoch 1/5\n",
            "----------------------------------------\n"
          ]
        },
        {
          "name": "stderr",
          "output_type": "stream",
          "text": [
            "40it [00:25,  1.55it/s]"
          ]
        },
        {
          "name": "stdout",
          "output_type": "stream",
          "text": [
            "Train Loss: 0.8438\n"
          ]
        },
        {
          "name": "stderr",
          "output_type": "stream",
          "text": [
            "\n",
            "40it [00:15,  2.56it/s]"
          ]
        },
        {
          "name": "stdout",
          "output_type": "stream",
          "text": [
            "Val Loss: 0.9853\n",
            "{'epoch': 1, 'Train_loss': 0.843777060508728, 'Val_loss': 0.9852839112281799, 'Train_f1_score': 0.12090154590217231, 'Train_auroc': 0.621296711783456, 'Train_iou': 0.08728249674640598, 'Val_f1_score': 0.04920220373671673, 'Val_auroc': 0.5076201443985794, 'Val_iou': 0.030081962767609615}\n",
            "Epoch 2/5\n",
            "----------------------------------------\n"
          ]
        },
        {
          "name": "stderr",
          "output_type": "stream",
          "text": [
            "\n",
            "40it [00:25,  1.57it/s]"
          ]
        },
        {
          "name": "stdout",
          "output_type": "stream",
          "text": [
            "Train Loss: 0.9318\n"
          ]
        },
        {
          "name": "stderr",
          "output_type": "stream",
          "text": [
            "\n",
            "40it [00:15,  2.53it/s]"
          ]
        },
        {
          "name": "stdout",
          "output_type": "stream",
          "text": [
            "Val Loss: 0.9662\n",
            "{'epoch': 2, 'Train_loss': 0.9318215250968933, 'Val_loss': 0.9662066102027893, 'Train_f1_score': 0.13310819479485356, 'Train_auroc': 0.6352833393186272, 'Train_iou': 0.09015644013180175, 'Val_f1_score': 0.1115073837086413, 'Val_auroc': 0.626172451145156, 'Val_iou': 0.12856583636010194}\n",
            "Epoch 3/5\n",
            "----------------------------------------\n"
          ]
        },
        {
          "name": "stderr",
          "output_type": "stream",
          "text": [
            "\n",
            "40it [00:25,  1.59it/s]"
          ]
        },
        {
          "name": "stdout",
          "output_type": "stream",
          "text": [
            "Train Loss: 0.9160\n"
          ]
        },
        {
          "name": "stderr",
          "output_type": "stream",
          "text": [
            "\n",
            "40it [00:15,  2.58it/s]"
          ]
        },
        {
          "name": "stdout",
          "output_type": "stream",
          "text": [
            "Val Loss: 0.9760\n",
            "{'epoch': 3, 'Train_loss': 0.9159874320030212, 'Val_loss': 0.9760012626647949, 'Train_f1_score': 0.145863420696347, 'Train_auroc': 0.6054434039329302, 'Train_iou': 0.15081281453357115, 'Val_f1_score': 0.0669105968315854, 'Val_auroc': 0.4768603180807457, 'Val_iou': 0.04896155330398015}\n",
            "Epoch 4/5\n",
            "----------------------------------------\n"
          ]
        },
        {
          "name": "stderr",
          "output_type": "stream",
          "text": [
            "\n",
            "40it [00:25,  1.58it/s]"
          ]
        },
        {
          "name": "stdout",
          "output_type": "stream",
          "text": [
            "Train Loss: 0.4993\n"
          ]
        },
        {
          "name": "stderr",
          "output_type": "stream",
          "text": [
            "\n",
            "40it [00:15,  2.53it/s]"
          ]
        },
        {
          "name": "stdout",
          "output_type": "stream",
          "text": [
            "Val Loss: 0.9686\n",
            "{'epoch': 4, 'Train_loss': 0.49925899505615234, 'Val_loss': 0.9685632586479187, 'Train_f1_score': 0.07049898434350024, 'Train_auroc': 0.4893416976182398, 'Train_iou': 0.04486214556749845, 'Val_f1_score': 0.11912943018692623, 'Val_auroc': 0.565943209334421, 'Val_iou': 0.0735826594623109}\n",
            "Epoch 5/5\n",
            "----------------------------------------\n"
          ]
        },
        {
          "name": "stderr",
          "output_type": "stream",
          "text": [
            "\n",
            "40it [00:25,  1.60it/s]"
          ]
        },
        {
          "name": "stdout",
          "output_type": "stream",
          "text": [
            "Train Loss: 0.8995\n"
          ]
        },
        {
          "name": "stderr",
          "output_type": "stream",
          "text": [
            "\n",
            "40it [00:15,  2.54it/s]\n"
          ]
        },
        {
          "name": "stdout",
          "output_type": "stream",
          "text": [
            "Val Loss: 0.8631\n",
            "{'epoch': 5, 'Train_loss': 0.8994597792625427, 'Val_loss': 0.8631025552749634, 'Train_f1_score': 0.14491188264912191, 'Train_auroc': 0.6037506838331966, 'Train_iou': 0.1508148497364889, 'Val_f1_score': 0.0687186691695932, 'Val_auroc': 0.4932420897246215, 'Val_iou': 0.03332788176915231}\n",
            "Training complete in 3m 30s\n",
            "Lowest Loss: 0.863103\n"
          ]
        },
        {
          "data": {
            "text/plain": [
              "<All keys matched successfully>"
            ]
          },
          "execution_count": 31,
          "metadata": {},
          "output_type": "execute_result"
        }
      ],
      "source": [
        "import warnings\n",
        "warnings.filterwarnings(action='ignore')\n",
        "\n",
        "model=net\n",
        "bpath=log_dir\n",
        "num_epochs=num_epoch\n",
        "\n",
        "since = time.time()\n",
        "best_model_wts = copy.deepcopy(model.state_dict())\n",
        "best_loss = 1e10\n",
        "# Use gpu if available\n",
        "device = torch.device(\"cuda:0\" if torch.cuda.is_available() else \"cpu\")\n",
        "model.to(device)\n",
        "# Initialize the log file for training and Valing loss and metrics\n",
        "fieldnames = ['epoch', 'Train_loss', 'Val_loss'] + \\\n",
        "    [f'Train_{m}' for m in metrics.keys()] + \\\n",
        "    [f'Val_{m}' for m in metrics.keys()]\n",
        "with open(os.path.join(bpath, 'log.csv'), 'w', newline='') as csvfile:\n",
        "    writer = csv.DictWriter(csvfile, fieldnames=fieldnames)\n",
        "    writer.writeheader()\n",
        "\n",
        "for epoch in range(1, num_epochs + 1):\n",
        "    print('Epoch {}/{}'.format(epoch, num_epochs))\n",
        "    print('-' * 40)\n",
        "    # Each epoch has a training and validation phase\n",
        "    # Initialize batch summary\n",
        "    batchsummary = {a: [0] for a in fieldnames}\n",
        "\n",
        "    # mask = fn_tonumpy(mask)\n",
        "    # image = fn_tonumpy(fn_denorm(image, mean=0.5, std=0.5))            내일 확인해보기\n",
        "    # output = fn_tonumpy(fn_class(output))\n",
        "\n",
        "    for phase in ['Train', 'Val']:\n",
        "        if phase == 'Train':\n",
        "            model.train()  # Set model to training mode\n",
        "        else:\n",
        "            model.eval()  # Set model to evaluate mode\n",
        "\n",
        "        ious = 0\n",
        "        cnt = 0\n",
        "        # iou_Val = 0\n",
        "\n",
        "        # Iterate over data.\n",
        "        for batch, data in tqdm(enumerate(loader_train, 1)):\n",
        "            cnt += 1\n",
        "            mask = data['mask'].to(device)\n",
        "            image = data['image'].to(device)\n",
        "\n",
        "            \n",
        "            # zero the parameter gradients\n",
        "            optimizer.zero_grad()\n",
        "\n",
        "            # track history if only in train\n",
        "            with torch.set_grad_enabled(phase == 'Train'):\n",
        "                output = model(image)\n",
        "                loss = criterion(output, mask)\n",
        "\n",
        "                y_pred = output.data.cpu().numpy().ravel()\n",
        "                y_true = mask.data.cpu().numpy().ravel()\n",
        "                \n",
        "                batch_size = mask.shape[0]\n",
        "                ious += iou_np(y_pred, y_true)\n",
        "\n",
        "                for name, metric in metrics.items():\n",
        "                    if name == 'f1_score':\n",
        "\n",
        "                        batchsummary[f'{phase}_{name}'].append(\n",
        "                            metric(y_true > 0, y_pred > 0.1))\n",
        "                    elif name == 'auroc':\n",
        "                        batchsummary[f'{phase}_{name}'].append(\n",
        "                            metric(y_true.astype('uint8'), y_pred))\n",
        "\n",
        "                if phase == 'Train':\n",
        "                    loss.backward()\n",
        "                    optimizer.step()\n",
        "        # print('i/c : {}\\n\\n'.format(ious / cnt))\n",
        "        batchsummary[f'{phase}_iou'] = ious / cnt\n",
        "\n",
        "        batchsummary['epoch'] = epoch\n",
        "        epoch_loss = loss\n",
        "        batchsummary[f'{phase}_loss'] = epoch_loss.item()\n",
        "        print('{} Loss: {:.4f}'.format(phase, loss))\n",
        "\n",
        "    for field in fieldnames[3:]:\n",
        "        batchsummary[field] = np.mean(batchsummary[field])\n",
        "    print(batchsummary)\n",
        "    with open(os.path.join(bpath, 'log.csv'), 'a', newline='') as csvfile:\n",
        "        writer = csv.DictWriter(csvfile, fieldnames=fieldnames)\n",
        "        writer.writerow(batchsummary)\n",
        "        # deep copy the model\n",
        "        if phase == 'Val' and loss < best_loss:\n",
        "            best_loss = loss\n",
        "            best_model_wts = copy.deepcopy(model.state_dict())\n",
        "\n",
        "time_elapsed = time.time() - since\n",
        "print('Training complete in {:.0f}m {:.0f}s'.format(\n",
        "    time_elapsed // 60, time_elapsed % 60))\n",
        "print('Lowest Loss: {:4f}'.format(best_loss))\n",
        "\n",
        "# epoch이 끝날때 마다 네트워크 저장\n",
        "if batchsummary['epoch'] % 5 ==0:\n",
        "    save(ckpt_dir=ckpt_dir, net = net, optimizer = optimizer, epoch = batchsummary['epoch'])\n",
        "\n",
        "# load best model weights\n",
        "model.load_state_dict(best_model_wts)\n"
      ]
    },
    {
      "cell_type": "markdown",
      "metadata": {
        "id": "f1bV8Aq4D0He"
      },
      "source": [
        "# Test"
      ]
    },
    {
      "cell_type": "code",
      "execution_count": null,
      "metadata": {
        "id": "pdWK2BEjJ1JO"
      },
      "outputs": [],
      "source": [
        "transform = transforms.Compose([Normalization(mean=0.5, std=0.5), ToTensor()])\n",
        "\n",
        "dataset_test = Dataset(data_dir=os.path.join(data_dir, 'test'), transform=transform)\n",
        "loader_test = DataLoader(dataset_test, batch_size=batch_size, shuffle=False, num_workers=8)\n",
        "\n",
        "# 그밖에 부수적인 variables 설정하기\n",
        "num_data_test = len(dataset_test)\n",
        "num_batch_test = np.ceil(num_data_test / batch_size)\n",
        "\n",
        "# 결과 디렉토리 생성하기\n",
        "result_dir = os.path.join('./', 'result')\n",
        "if not os.path.exists(result_dir):\n",
        "    os.makedirs(os.path.join(result_dir, 'png'))\n",
        "    os.makedirs(os.path.join(result_dir, 'numpy'))\n",
        "\n",
        "\n",
        "net, optimizer, st_epoch = load(ckpt_dir=ckpt_dir, net=net, optimizer=optimizer)\n",
        "\n",
        "with torch.no_grad():\n",
        "      net.eval()\n",
        "      loss_arr = []\n",
        "\n",
        "      for batch, data in tqdm(enumerate(loader_test, 1)):\n",
        "          # forward pass\n",
        "          mask = data['mask'].to(device)\n",
        "          image = data['image'].to(device)\n",
        "\n",
        "          output = net(image)\n",
        "\n",
        "          # 손실함수 계산하기\n",
        "          loss = criterion(output, mask)\n",
        "\n",
        "          loss_arr += [loss.item()]\n",
        "\n",
        "          print(\"TEST: BATCH %04d / %04d | LOSS %.4f\" %\n",
        "                (batch, num_batch_test, np.mean(loss_arr)))\n",
        "\n",
        "          # Tensorboard 저장하기\n",
        "          mask = fn_tonumpy(mask)\n",
        "          image = fn_tonumpy(fn_denorm(image, mean=0.5, std=0.5))\n",
        "          output = fn_tonumpy(fn_class(output))\n",
        "\n",
        "          # 테스트 결과 저장하기\n",
        "          for j in range(mask.shape[0]):\n",
        "              id = num_batch_test * (batch - 1) + j\n",
        "\n",
        "              plt.imsave(os.path.join(result_dir, 'png', 'mask_%04d.png' % id), mask[j].squeeze(), cmap='gray')\n",
        "              plt.imsave(os.path.join(result_dir, 'png', 'image_%04d.png' % id), image[j].squeeze(), cmap='gray')\n",
        "              plt.imsave(os.path.join(result_dir, 'png', 'output_%04d.png' % id), output[j].squeeze(), cmap='gray')\n",
        "\n",
        "              np.save(os.path.join(result_dir, 'numpy', 'mask_%04d.npy' % id), mask[j].squeeze())\n",
        "              np.save(os.path.join(result_dir, 'numpy', 'image_%04d.npy' % id), image[j].squeeze())\n",
        "              np.save(os.path.join(result_dir, 'numpy', 'output_%04d.npy' % id), output[j].squeeze())\n",
        "\n",
        "print(\"AVERAGE TEST: BATCH %04d / %04d | LOSS %.4f\" %\n",
        "        (batch, num_batch_test, np.mean(loss_arr)))"
      ]
    },
    {
      "cell_type": "code",
      "execution_count": null,
      "metadata": {
        "id": "9JQVDFBqJ1Gt"
      },
      "outputs": [],
      "source": [
        "##\n",
        "lst_data = os.listdir(os.path.join(result_dir, 'numpy'))\n",
        "\n",
        "lst_mask = [f for f in lst_data if f.startswith('mask')]\n",
        "lst_image = [f for f in lst_data if f.startswith('image')]\n",
        "lst_output = [f for f in lst_data if f.startswith('output')]\n",
        "\n",
        "lst_mask.sort()\n",
        "lst_image.sort()\n",
        "lst_output.sort()\n",
        "\n",
        "##\n",
        "id = 0\n",
        "\n",
        "mask = np.load(os.path.join(result_dir,\"numpy\", lst_mask[id]))\n",
        "image = np.load(os.path.join(result_dir,\"numpy\", lst_image[id]))\n",
        "output = np.load(os.path.join(result_dir,\"numpy\", lst_output[id]))\n",
        "\n",
        "## 플롯 그리기\n",
        "plt.figure(figsize=(8,6))\n",
        "plt.subplot(131)\n",
        "plt.imshow(image, cmap='gray')\n",
        "plt.title('image')\n",
        "\n",
        "plt.subplot(132)\n",
        "plt.imshow(mask, cmap='gray')\n",
        "plt.title('mask')\n",
        "\n",
        "plt.subplot(133)\n",
        "plt.imshow(output*200, cmap='gray')\n",
        "plt.title('output')\n",
        "\n",
        "plt.show()"
      ]
    },
    {
      "cell_type": "code",
      "execution_count": null,
      "metadata": {
        "id": "aDsrGgnxJ1Ed"
      },
      "outputs": [],
      "source": []
    },
    {
      "cell_type": "code",
      "execution_count": null,
      "metadata": {
        "id": "1YgZPKSQzvor"
      },
      "outputs": [],
      "source": []
    },
    {
      "cell_type": "code",
      "execution_count": null,
      "metadata": {
        "id": "6MswVRUczunc"
      },
      "outputs": [],
      "source": []
    }
  ],
  "metadata": {
    "accelerator": "GPU",
    "colab": {
      "collapsed_sections": [
        "f1bV8Aq4D0He"
      ],
      "name": "[Bin]U-net_label4_220801.ipynb",
      "provenance": []
    },
    "gpuClass": "standard",
    "kernelspec": {
      "display_name": "Python 3.10.4 64-bit",
      "language": "python",
      "name": "python3"
    },
    "language_info": {
      "name": "python",
      "version": "3.10.4"
    },
    "vscode": {
      "interpreter": {
        "hash": "afb734500600fd355917ca529030176ea0ca205570884b88f2f6f7d791fd3fbe"
      }
    }
  },
  "nbformat": 4,
  "nbformat_minor": 0
}
