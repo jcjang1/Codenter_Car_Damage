{
  "cells": [
    {
      "cell_type": "code",
      "execution_count": 1,
      "metadata": {
        "colab": {
          "base_uri": "https://localhost:8080/"
        },
        "id": "Rm1_BQ3bor48",
        "outputId": "42be78aa-fd19-47d8-bdae-ce404c9cc1f4"
      },
      "outputs": [
        {
          "name": "stdout",
          "output_type": "stream",
          "text": [
            "Cloning into 'pytorch-nested-unet'...\n",
            "remote: Enumerating objects: 77, done.\u001b[K\n",
            "remote: Counting objects: 100% (24/24), done.\u001b[K\n",
            "remote: Compressing objects: 100% (8/8), done.\u001b[K\n",
            "remote: Total 77 (delta 19), reused 16 (delta 16), pack-reused 53\u001b[K\n",
            "Unpacking objects: 100% (77/77), done.\n"
          ]
        }
      ],
      "source": [
        "! git clone https://github.com/4uiiurz1/pytorch-nested-unet.git"
      ]
    },
    {
      "cell_type": "code",
      "execution_count": null,
      "metadata": {
        "id": "QNDgEDnRIHd7"
      },
      "outputs": [],
      "source": [
        "# !git clone https://github.com/MrGiovanni/UNetPlusPlus.git"
      ]
    },
    {
      "cell_type": "code",
      "execution_count": 2,
      "metadata": {
        "colab": {
          "base_uri": "https://localhost:8080/"
        },
        "id": "u27mahsj1yxb",
        "outputId": "5e169142-a5bc-46fb-8513-1ae0e92374c4"
      },
      "outputs": [
        {
          "name": "stdout",
          "output_type": "stream",
          "text": [
            "Downloading...\n",
            "From: https://drive.google.com/uc?id=1e1QD_28uN0KxmJTzQtVbJXsOiNX7ya1k\n",
            "To: /content/b_use_model_dataset.zip\n",
            "100% 20.0M/20.0M [00:00<00:00, 67.7MB/s]\n"
          ]
        }
      ],
      "source": [
        "!gdown 1e1QD_28uN0KxmJTzQtVbJXsOiNX7ya1k"
      ]
    },
    {
      "cell_type": "code",
      "execution_count": 3,
      "metadata": {
        "id": "QXsrL2OGOGNK"
      },
      "outputs": [],
      "source": [
        "!mkdir /content/dataset"
      ]
    },
    {
      "cell_type": "code",
      "execution_count": null,
      "metadata": {
        "colab": {
          "base_uri": "https://localhost:8080/"
        },
        "id": "wsMm8TL318dz",
        "outputId": "1df3b256-c2da-4de2-8f96-1553a806a51c"
      },
      "outputs": [],
      "source": [
        "! unzip /content/b_use_model_dataset.zip -d /content/dataset"
      ]
    },
    {
      "cell_type": "code",
      "execution_count": 5,
      "metadata": {
        "colab": {
          "base_uri": "https://localhost:8080/"
        },
        "id": "G1TkAZMeB-Q1",
        "outputId": "32a1e4e0-c957-4c6b-df5d-3b4b854d3c8e"
      },
      "outputs": [
        {
          "name": "stdout",
          "output_type": "stream",
          "text": [
            "/content/pytorch-nested-unet\n"
          ]
        }
      ],
      "source": [
        "%cd /content/pytorch-nested-unet"
      ]
    },
    {
      "cell_type": "code",
      "execution_count": 6,
      "metadata": {
        "colab": {
          "base_uri": "https://localhost:8080/"
        },
        "id": "WtLL7t35Cgtt",
        "outputId": "5113048c-d4e5-451e-9842-26438fa21416"
      },
      "outputs": [
        {
          "name": "stdout",
          "output_type": "stream",
          "text": [
            "/content/pytorch-nested-unet\n"
          ]
        }
      ],
      "source": [
        "!pwd"
      ]
    },
    {
      "cell_type": "code",
      "execution_count": 7,
      "metadata": {
        "colab": {
          "base_uri": "https://localhost:8080/"
        },
        "id": "zcNdYtaqCmo7",
        "outputId": "c8b29231-a5e2-49c8-dd65-a42056520e20"
      },
      "outputs": [
        {
          "name": "stdout",
          "output_type": "stream",
          "text": [
            "archs.py    LICENSE\tmodels\t\t       README.md\t utils.py\n",
            "dataset.py  losses.py\toutputs\t\t       requirements.txt  val.py\n",
            "inputs\t    metrics.py\tpreprocess_dsb2018.py  train.py\n"
          ]
        }
      ],
      "source": [
        "!ls"
      ]
    },
    {
      "cell_type": "code",
      "execution_count": null,
      "metadata": {
        "colab": {
          "base_uri": "https://localhost:8080/"
        },
        "id": "OrxAo1-D-c5p",
        "outputId": "177fac89-80b4-4e22-a596-fb57015364c9"
      },
      "outputs": [],
      "source": [
        "!python train.py --dataset /content/dataset --arch NestedUNet --img_ext .jpg --mask_ext .jpg --batch_size 1 --lr 1e-4 --num_classes 5 --input_w 512 --input_h 512  --epochs 10"
      ]
    },
    {
      "cell_type": "code",
      "execution_count": 17,
      "metadata": {
        "id": "cA2x1va93nH4"
      },
      "outputs": [],
      "source": [
        "import pandas as pd\n",
        "import matplotlib.pyplot as plt\n"
      ]
    },
    {
      "cell_type": "code",
      "execution_count": 18,
      "metadata": {
        "colab": {
          "base_uri": "https://localhost:8080/",
          "height": 363
        },
        "id": "S0po61XAMjH7",
        "outputId": "ad864ea2-195d-46ae-fddc-13dbc3d04b07"
      },
      "outputs": [
        {
          "data": {
            "text/html": [
              "\n",
              "  <div id=\"df-fb215881-75b1-4e8a-9370-ce9d2f423ab5\">\n",
              "    <div class=\"colab-df-container\">\n",
              "      <div>\n",
              "<style scoped>\n",
              "    .dataframe tbody tr th:only-of-type {\n",
              "        vertical-align: middle;\n",
              "    }\n",
              "\n",
              "    .dataframe tbody tr th {\n",
              "        vertical-align: top;\n",
              "    }\n",
              "\n",
              "    .dataframe thead th {\n",
              "        text-align: right;\n",
              "    }\n",
              "</style>\n",
              "<table border=\"1\" class=\"dataframe\">\n",
              "  <thead>\n",
              "    <tr style=\"text-align: right;\">\n",
              "      <th></th>\n",
              "      <th>epoch</th>\n",
              "      <th>lr</th>\n",
              "      <th>loss</th>\n",
              "      <th>iou</th>\n",
              "      <th>val_loss</th>\n",
              "      <th>val_iou</th>\n",
              "    </tr>\n",
              "  </thead>\n",
              "  <tbody>\n",
              "    <tr>\n",
              "      <th>0</th>\n",
              "      <td>0</td>\n",
              "      <td>0.0001</td>\n",
              "      <td>1.206752</td>\n",
              "      <td>0.106893</td>\n",
              "      <td>1.218846</td>\n",
              "      <td>0.117025</td>\n",
              "    </tr>\n",
              "    <tr>\n",
              "      <th>1</th>\n",
              "      <td>1</td>\n",
              "      <td>0.0001</td>\n",
              "      <td>1.182919</td>\n",
              "      <td>0.133945</td>\n",
              "      <td>1.214394</td>\n",
              "      <td>0.122785</td>\n",
              "    </tr>\n",
              "    <tr>\n",
              "      <th>2</th>\n",
              "      <td>2</td>\n",
              "      <td>0.0001</td>\n",
              "      <td>1.164290</td>\n",
              "      <td>0.154819</td>\n",
              "      <td>1.243686</td>\n",
              "      <td>0.093995</td>\n",
              "    </tr>\n",
              "    <tr>\n",
              "      <th>3</th>\n",
              "      <td>3</td>\n",
              "      <td>0.0001</td>\n",
              "      <td>1.171812</td>\n",
              "      <td>0.150642</td>\n",
              "      <td>1.234092</td>\n",
              "      <td>0.100631</td>\n",
              "    </tr>\n",
              "    <tr>\n",
              "      <th>4</th>\n",
              "      <td>4</td>\n",
              "      <td>0.0001</td>\n",
              "      <td>1.165520</td>\n",
              "      <td>0.151247</td>\n",
              "      <td>1.201375</td>\n",
              "      <td>0.131992</td>\n",
              "    </tr>\n",
              "    <tr>\n",
              "      <th>5</th>\n",
              "      <td>5</td>\n",
              "      <td>0.0001</td>\n",
              "      <td>1.160130</td>\n",
              "      <td>0.154712</td>\n",
              "      <td>1.197524</td>\n",
              "      <td>0.135585</td>\n",
              "    </tr>\n",
              "    <tr>\n",
              "      <th>6</th>\n",
              "      <td>6</td>\n",
              "      <td>0.0001</td>\n",
              "      <td>1.154038</td>\n",
              "      <td>0.166467</td>\n",
              "      <td>1.181625</td>\n",
              "      <td>0.158807</td>\n",
              "    </tr>\n",
              "    <tr>\n",
              "      <th>7</th>\n",
              "      <td>7</td>\n",
              "      <td>0.0001</td>\n",
              "      <td>1.150317</td>\n",
              "      <td>0.176670</td>\n",
              "      <td>1.177990</td>\n",
              "      <td>0.162119</td>\n",
              "    </tr>\n",
              "    <tr>\n",
              "      <th>8</th>\n",
              "      <td>8</td>\n",
              "      <td>0.0001</td>\n",
              "      <td>1.132467</td>\n",
              "      <td>0.191068</td>\n",
              "      <td>1.174303</td>\n",
              "      <td>0.167905</td>\n",
              "    </tr>\n",
              "    <tr>\n",
              "      <th>9</th>\n",
              "      <td>9</td>\n",
              "      <td>0.0001</td>\n",
              "      <td>1.134085</td>\n",
              "      <td>0.193233</td>\n",
              "      <td>1.169899</td>\n",
              "      <td>0.172096</td>\n",
              "    </tr>\n",
              "  </tbody>\n",
              "</table>\n",
              "</div>\n",
              "      <button class=\"colab-df-convert\" onclick=\"convertToInteractive('df-fb215881-75b1-4e8a-9370-ce9d2f423ab5')\"\n",
              "              title=\"Convert this dataframe to an interactive table.\"\n",
              "              style=\"display:none;\">\n",
              "        \n",
              "  <svg xmlns=\"http://www.w3.org/2000/svg\" height=\"24px\"viewBox=\"0 0 24 24\"\n",
              "       width=\"24px\">\n",
              "    <path d=\"M0 0h24v24H0V0z\" fill=\"none\"/>\n",
              "    <path d=\"M18.56 5.44l.94 2.06.94-2.06 2.06-.94-2.06-.94-.94-2.06-.94 2.06-2.06.94zm-11 1L8.5 8.5l.94-2.06 2.06-.94-2.06-.94L8.5 2.5l-.94 2.06-2.06.94zm10 10l.94 2.06.94-2.06 2.06-.94-2.06-.94-.94-2.06-.94 2.06-2.06.94z\"/><path d=\"M17.41 7.96l-1.37-1.37c-.4-.4-.92-.59-1.43-.59-.52 0-1.04.2-1.43.59L10.3 9.45l-7.72 7.72c-.78.78-.78 2.05 0 2.83L4 21.41c.39.39.9.59 1.41.59.51 0 1.02-.2 1.41-.59l7.78-7.78 2.81-2.81c.8-.78.8-2.07 0-2.86zM5.41 20L4 18.59l7.72-7.72 1.47 1.35L5.41 20z\"/>\n",
              "  </svg>\n",
              "      </button>\n",
              "      \n",
              "  <style>\n",
              "    .colab-df-container {\n",
              "      display:flex;\n",
              "      flex-wrap:wrap;\n",
              "      gap: 12px;\n",
              "    }\n",
              "\n",
              "    .colab-df-convert {\n",
              "      background-color: #E8F0FE;\n",
              "      border: none;\n",
              "      border-radius: 50%;\n",
              "      cursor: pointer;\n",
              "      display: none;\n",
              "      fill: #1967D2;\n",
              "      height: 32px;\n",
              "      padding: 0 0 0 0;\n",
              "      width: 32px;\n",
              "    }\n",
              "\n",
              "    .colab-df-convert:hover {\n",
              "      background-color: #E2EBFA;\n",
              "      box-shadow: 0px 1px 2px rgba(60, 64, 67, 0.3), 0px 1px 3px 1px rgba(60, 64, 67, 0.15);\n",
              "      fill: #174EA6;\n",
              "    }\n",
              "\n",
              "    [theme=dark] .colab-df-convert {\n",
              "      background-color: #3B4455;\n",
              "      fill: #D2E3FC;\n",
              "    }\n",
              "\n",
              "    [theme=dark] .colab-df-convert:hover {\n",
              "      background-color: #434B5C;\n",
              "      box-shadow: 0px 1px 3px 1px rgba(0, 0, 0, 0.15);\n",
              "      filter: drop-shadow(0px 1px 2px rgba(0, 0, 0, 0.3));\n",
              "      fill: #FFFFFF;\n",
              "    }\n",
              "  </style>\n",
              "\n",
              "      <script>\n",
              "        const buttonEl =\n",
              "          document.querySelector('#df-fb215881-75b1-4e8a-9370-ce9d2f423ab5 button.colab-df-convert');\n",
              "        buttonEl.style.display =\n",
              "          google.colab.kernel.accessAllowed ? 'block' : 'none';\n",
              "\n",
              "        async function convertToInteractive(key) {\n",
              "          const element = document.querySelector('#df-fb215881-75b1-4e8a-9370-ce9d2f423ab5');\n",
              "          const dataTable =\n",
              "            await google.colab.kernel.invokeFunction('convertToInteractive',\n",
              "                                                     [key], {});\n",
              "          if (!dataTable) return;\n",
              "\n",
              "          const docLinkHtml = 'Like what you see? Visit the ' +\n",
              "            '<a target=\"_blank\" href=https://colab.research.google.com/notebooks/data_table.ipynb>data table notebook</a>'\n",
              "            + ' to learn more about interactive tables.';\n",
              "          element.innerHTML = '';\n",
              "          dataTable['output_type'] = 'display_data';\n",
              "          await google.colab.output.renderOutput(dataTable, element);\n",
              "          const docLink = document.createElement('div');\n",
              "          docLink.innerHTML = docLinkHtml;\n",
              "          element.appendChild(docLink);\n",
              "        }\n",
              "      </script>\n",
              "    </div>\n",
              "  </div>\n",
              "  "
            ],
            "text/plain": [
              "   epoch      lr      loss       iou  val_loss   val_iou\n",
              "0      0  0.0001  1.206752  0.106893  1.218846  0.117025\n",
              "1      1  0.0001  1.182919  0.133945  1.214394  0.122785\n",
              "2      2  0.0001  1.164290  0.154819  1.243686  0.093995\n",
              "3      3  0.0001  1.171812  0.150642  1.234092  0.100631\n",
              "4      4  0.0001  1.165520  0.151247  1.201375  0.131992\n",
              "5      5  0.0001  1.160130  0.154712  1.197524  0.135585\n",
              "6      6  0.0001  1.154038  0.166467  1.181625  0.158807\n",
              "7      7  0.0001  1.150317  0.176670  1.177990  0.162119\n",
              "8      8  0.0001  1.132467  0.191068  1.174303  0.167905\n",
              "9      9  0.0001  1.134085  0.193233  1.169899  0.172096"
            ]
          },
          "execution_count": 18,
          "metadata": {},
          "output_type": "execute_result"
        }
      ],
      "source": [
        "df = pd.read_csv('/content/pytorch-nested-unet/models/content/b_use_model_dataset_NestedUNet_woDS/log.csv')\n",
        "df"
      ]
    },
    {
      "cell_type": "code",
      "execution_count": 19,
      "metadata": {
        "colab": {
          "base_uri": "https://localhost:8080/",
          "height": 499
        },
        "id": "rfFqY_lgMpup",
        "outputId": "dce49560-8089-420c-bac2-d62e3e99c48d"
      },
      "outputs": [
        {
          "data": {
            "image/png": "[encoded data removed]",
            "text/plain": [
              "<Figure size 1152x576 with 2 Axes>"
            ]
          },
          "metadata": {
            "needs_background": "light"
          },
          "output_type": "display_data"
        }
      ],
      "source": [
        "fig = plt.figure(figsize=(16, 8))\n",
        "\n",
        "\n",
        "ax = fig.add_subplot(1, 2, 1)\n",
        "ax.plot(df[\"loss\"], color=\"red\", label=\"train loss\")\n",
        "ax.plot(df[\"val_loss\"], color=\"blue\", label=\"valid loss\")\n",
        "ax.title.set_text(\"Loss\")\n",
        "ax.legend()\n",
        "\n",
        "ax = fig.add_subplot(1, 2, 2)\n",
        "ax.plot(df[\"iou\"], color=\"red\", label=\"train miou\")\n",
        "ax.plot(df[\"val_iou\"], color=\"blue\", label=\"valid miou\")\n",
        "ax.title.set_text(\"miou\")\n",
        "ax.legend()\n",
        "\n",
        "plt.show()"
      ]
    }
  ],
  "metadata": {
    "accelerator": "GPU",
    "colab": {
      "collapsed_sections": [],
      "name": "UNetPlusPlus_0705(진행중).ipynb의 사본",
      "provenance": []
    },
    "gpuClass": "standard",
    "kernelspec": {
      "display_name": "Python 3.10.4 64-bit",
      "language": "python",
      "name": "python3"
    },
    "language_info": {
      "name": "python",
      "version": "3.10.4"
    },
    "vscode": {
      "interpreter": {
        "hash": "afb734500600fd355917ca529030176ea0ca205570884b88f2f6f7d791fd3fbe"
      }
    }
  },
  "nbformat": 4,
  "nbformat_minor": 0
}
