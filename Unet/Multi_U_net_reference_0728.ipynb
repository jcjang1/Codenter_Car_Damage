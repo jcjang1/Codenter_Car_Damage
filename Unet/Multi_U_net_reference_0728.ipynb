{
  "cells": [
    {
      "cell_type": "code",
      "execution_count": 1,
      "metadata": {
        "colab": {
          "base_uri": "https://localhost:8080/"
        },
        "id": "Ygd0tm5lVNZO",
        "outputId": "dd635242-e573-476f-9c8e-b369890c7114"
      },
      "outputs": [
        {
          "name": "stdout",
          "output_type": "stream",
          "text": [
            "Cloning into 'Unet'...\n",
            "remote: Enumerating objects: 78, done.\u001b[K\n",
            "remote: Counting objects: 100% (78/78), done.\u001b[K\n",
            "remote: Compressing objects: 100% (71/71), done.\u001b[K\n",
            "remote: Total 78 (delta 6), reused 78 (delta 6), pack-reused 0\u001b[K\n",
            "Unpacking objects: 100% (78/78), done.\n"
          ]
        }
      ],
      "source": [
        "!git clone https://github.com/YoonSoM/Unet.git"
      ]
    },
    {
      "cell_type": "code",
      "execution_count": 22,
      "metadata": {
        "colab": {
          "base_uri": "https://localhost:8080/"
        },
        "id": "_R8y-fgcVlcE",
        "outputId": "69ebef0c-2d73-45b2-d3cb-069a8ac12110"
      },
      "outputs": [
        {
          "name": "stdout",
          "output_type": "stream",
          "text": [
            "Downloading...\n",
            "From: https://drive.google.com/uc?id=1j-jPIhqmQnYshZIe69Pp303JGC6GcmWQ\n",
            "To: /content/Unet/unet-multiple-classification-512-png.png.zip\n",
            "100% 533M/533M [00:01<00:00, 308MB/s]\n"
          ]
        }
      ],
      "source": [
        "!gdown 1j-jPIhqmQnYshZIe69Pp303JGC6GcmWQ"
      ]
    },
    {
      "cell_type": "code",
      "execution_count": 23,
      "metadata": {
        "colab": {
          "base_uri": "https://localhost:8080/"
        },
        "id": "tldsgtZwVlt-",
        "outputId": "59138da3-a7ae-456e-f53a-a3e651d6ff49"
      },
      "outputs": [
        {
          "name": "stdout",
          "output_type": "stream",
          "text": [
            "Archive:  /content/Unet/unet-multiple-classification-512-png.png.zip\n",
            "replace unet-nested-multiple-classification/config.py? [y]es, [n]o, [A]ll, [N]one, [r]ename: "
          ]
        }
      ],
      "source": [
        "!unzip /content/Unet/unet-multiple-classification-512-png.png.zip"
      ]
    },
    {
      "cell_type": "code",
      "execution_count": 4,
      "metadata": {
        "colab": {
          "base_uri": "https://localhost:8080/"
        },
        "id": "EOjCg8D1X0jM",
        "outputId": "fa9b4e12-e952-45de-db01-a539ba9d7a7b"
      },
      "outputs": [
        {
          "name": "stdout",
          "output_type": "stream",
          "text": [
            "/content/Unet\n"
          ]
        }
      ],
      "source": [
        "cd /content/Unet"
      ]
    },
    {
      "cell_type": "code",
      "execution_count": 5,
      "metadata": {
        "id": "2MP7LrRrNC1a"
      },
      "outputs": [],
      "source": [
        "import os\n",
        "import os.path as osp\n",
        "import logging\n",
        "import cv2\n",
        "import matplotlib.pyplot as plt\n",
        "\n",
        "import numpy as np\n",
        "from PIL import Image\n",
        "import torch\n",
        "from torch.utils.data import Dataset"
      ]
    },
    {
      "cell_type": "code",
      "execution_count": null,
      "metadata": {
        "colab": {
          "base_uri": "https://localhost:8080/"
        },
        "id": "pOHZieIqVlzJ",
        "outputId": "2c4801fe-e7c7-4e3f-dcfa-7af32c1721b8"
      },
      "outputs": [],
      "source": [
        "!python train.py"
      ]
    },
    {
      "cell_type": "code",
      "execution_count": 24,
      "metadata": {
        "colab": {
          "base_uri": "https://localhost:8080/"
        },
        "id": "2x_Tt2M8Nh9C",
        "outputId": "0d6030ec-7cbb-4c2e-8a9a-1b29eae5761b"
      },
      "outputs": [
        {
          "name": "stdout",
          "output_type": "stream",
          "text": [
            "77it [05:52,  4.58s/it]\n"
          ]
        }
      ],
      "source": [
        "!python inference.py -m ./data/checkpoints/epoch_10.pth -i ./data/test/input -o ./data/test/output"
      ]
    },
    {
      "cell_type": "code",
      "execution_count": null,
      "metadata": {
        "colab": {
          "base_uri": "https://localhost:8080/"
        },
        "id": "_1kbwncgNh7p",
        "outputId": "c7c74e98-269a-4853-e2c4-5f5fe4a058b0"
      },
      "outputs": [],
      "source": [
        "!zip /content/inference.zip -r /content/Unet/data/test/output"
      ]
    },
    {
      "cell_type": "code",
      "execution_count": null,
      "metadata": {
        "id": "wFEDRNfKNh6T"
      },
      "outputs": [],
      "source": []
    }
  ],
  "metadata": {
    "accelerator": "GPU",
    "colab": {
      "name": "U-net_reference_0728.ipynb",
      "provenance": []
    },
    "gpuClass": "standard",
    "kernelspec": {
      "display_name": "Python 3.10.4 64-bit",
      "language": "python",
      "name": "python3"
    },
    "language_info": {
      "name": "python",
      "version": "3.10.4"
    },
    "vscode": {
      "interpreter": {
        "hash": "afb734500600fd355917ca529030176ea0ca205570884b88f2f6f7d791fd3fbe"
      }
    }
  },
  "nbformat": 4,
  "nbformat_minor": 0
}
